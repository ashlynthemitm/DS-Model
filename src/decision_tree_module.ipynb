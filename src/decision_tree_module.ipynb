{
 "cells": [
  {
   "cell_type": "code",
   "execution_count": null,
   "id": "7c130f5a-0774-4210-b1e3-a23b788a3529",
   "metadata": {},
   "outputs": [],
   "source": [
    "# Imports\n",
    "import pandas as pd\n",
    "from pandas import DataFrame, Series\n",
    "import numpy as np\n",
    "from sklearn import preprocessing\n",
    "from sklearn.impute import SimpleImputer\n",
    "import matplotlib.pyplot as plt\n",
    "import seaborn as sns\n",
    "from scipy.stats import zscore\n",
    "import os\n",
    "\n",
    "import os\n",
    "\n",
    "# Set the default folder path\n",
    "default_folder = 'C:/Users/ashly/OneDrive/Documents/Education Material/FundamentalsDS/Project/DS-Model'\n",
    "\n",
    "# Change the working directory\n",
    "os.chdir(default_folder)\n",
    "print(f'The default directory for this notebook is: {os.getcwd()}')"
   ]
  },
  {
   "cell_type": "markdown",
   "id": "4eec3857-56c2-4a59-9959-839163d26658",
   "metadata": {},
   "source": [
    "The Six Figure Salary Predictive Model based on School Choice (Classification)\n",
    "Target Feature: Six Figure Salary by mid-career (True or False)\n",
    "Descriptive features: School Name, Stem Percent, Total_Cost of School, Rank of School, Diversity Index "
   ]
  },
  {
   "cell_type": "code",
   "execution_count": null,
   "id": "67c7a1cd-f82a-4a2a-b386-7581f9206beb",
   "metadata": {},
   "outputs": [],
   "source": [
    "# Begin Making Decision Tree --> Cannot run this until preprocessing is complete\n",
    "def temp_name(file_path):\n",
    "    df = pd.read_csv(file_path, sep=',')\n",
    "\n",
    "    # seaborn styling\n",
    "    sns.set(style='ticks')\n",
    "    sns.pairplot(df, hue='name')\n",
    "\n",
    "    # evenly distributed data can use bar graphs\n",
    "    df['name'].value_counts().plot(kind='bar')\n",
    "    df['stempercent'].value_counts().plot(kind='bar')\n",
    "    \n",
    "    # uneven distribution may be better with histogram\n",
    "    df['rank'].plot.hist(bins=10)\n",
    "    df['diversity_index'].plot.hist(bins=10)\n",
    "    df['total_cost'].plot.hist(bins=10)\n",
    "    \n",
    "    # styling and plotting \n",
    "    sns.set(style='whitegrid', context='notebook')\n",
    "    cols = ['rank', 'diversity_index', 'total_cost']\n",
    "    sns.pairplot(df, hue='TrainingName', heigh=2.0)\n",
    "    plt.show()"
   ]
  },
  {
   "cell_type": "code",
   "execution_count": null,
   "id": "38e96a3c-80b7-4b95-b35f-73c1b72810d8",
   "metadata": {},
   "outputs": [],
   "source": [
    "file_path = 'data_processed/modelling_data.csv'\n",
    "temp_name(file_path)"
   ]
  }
 ],
 "metadata": {
  "kernelspec": {
   "display_name": "Python 3 (ipykernel)",
   "language": "python",
   "name": "python3"
  },
  "language_info": {
   "codemirror_mode": {
    "name": "ipython",
    "version": 3
   },
   "file_extension": ".py",
   "mimetype": "text/x-python",
   "name": "python",
   "nbconvert_exporter": "python",
   "pygments_lexer": "ipython3",
   "version": "3.11.4"
  }
 },
 "nbformat": 4,
 "nbformat_minor": 5
}
