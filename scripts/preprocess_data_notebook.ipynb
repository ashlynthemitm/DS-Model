{
 "cells": [
  {
   "cell_type": "code",
   "execution_count": null,
   "id": "af255895-d7e7-4879-8c0a-c1b051c1b9f7",
   "metadata": {},
   "outputs": [],
   "source": [
    "import pandas as pd\n",
    "from pandas import DataFrame, Series\n",
    "import numpy as np\n",
    "from sklearn import preprocessing\n",
    "from sklearn.impute import SimpleImputer\n",
    "import matplotlib.pyplot as plt\n",
    "import seaborn as sns\n",
    "from scipy.stats import zscore\n",
    "import os"
   ]
  },
  {
   "cell_type": "markdown",
   "id": "dfa86e02-ff03-497e-9042-53124d82e5a6",
   "metadata": {},
   "source": [
    "The Six Figure Salary Predictive Model based on School Choice (Classification)\n",
    "Target Feature: Six Figure Salary by mid-career (True or False)\n",
    "Descriptive features: School Name, Stem Percent, Total_Cost of School, Rank of School, Diversity Index \n",
    "\n",
    "The steps to preprocess the data for this model are, \n",
    "1. Filtering the data for null values in any cells and removing the entire row if so in the dataset, \n",
    "    diversity_school.csv, salary_potential.csv, and total_cost\n",
    "2. Replace str cells with int for values to be used in calculations\n",
    "3. Filter Regions using the states to create concentrated visualizations, remove any Unknown state categories\n",
    "4. Once datasets are filtered place each necessary column to be used as features in a separate file modelling_data.csv"
   ]
  },
  {
   "cell_type": "markdown",
   "id": "d2439844-790f-4704-9069-a27ea54367a5",
   "metadata": {},
   "source": [
    "Step 1: Filter null values"
   ]
  },
  {
   "cell_type": "code",
   "execution_count": null,
   "id": "75d7ef43-63a5-4c57-b7bc-a7ae2b947b89",
   "metadata": {},
   "outputs": [],
   "source": []
  },
  {
   "cell_type": "markdown",
   "id": "2090ed26-d9b8-40ab-bfcb-a1a008e1668e",
   "metadata": {},
   "source": [
    "Step 2: Replace the str cells with int values"
   ]
  },
  {
   "cell_type": "code",
   "execution_count": null,
   "id": "89af3c81-158a-4134-b007-bc3f084dadfa",
   "metadata": {},
   "outputs": [],
   "source": []
  },
  {
   "cell_type": "markdown",
   "id": "8ece8a53-04e2-47ac-aebc-0bc418c16fb2",
   "metadata": {},
   "source": [
    "Step 3: Filter Regions using the states to create concentrated visualizations, remove any unknown states"
   ]
  },
  {
   "cell_type": "code",
   "execution_count": null,
   "id": "0d160d09-f29c-4f9a-87ce-b906731db4f9",
   "metadata": {},
   "outputs": [],
   "source": [
    "import pandas as pd\n",
    "from pandas import DataFrame, Series\n",
    "import numpy as np\n",
    "from sklearn import preprocessing\n",
    "from sklearn.impute import SimpleImputer\n",
    "import matplotlib.pyplot as plt\n",
    "import seaborn as sns\n",
    "from scipy.stats import zscore\n",
    "\n",
    "\n",
    "# Add Regions to Diversity_School dataset\n",
    "def addRegions():\n",
    "    # 4 Major Regions\n",
    "    # States in the Northeast\n",
    "    northeast_states = {'Connecticut', 'Delaware', 'Maine', 'Maryland', 'Massachusetts', 'New Hampshire', 'New Jersey', 'New York', 'Pennsylvania', 'Rhode Island', 'Vermont'}\n",
    "\n",
    "    # States in the Midwest\n",
    "    midwest_states = {'Illinois', 'Indiana', 'Iowa', 'Kansas', 'Michigan', 'Minnesota', 'Missouri', 'Nebraska', 'North Dakota', 'Ohio', 'South Dakota', 'Wisconsin'}\n",
    "\n",
    "    # States in the South\n",
    "    south_states = {'Alabama', 'Arkansas', 'Florida', 'Georgia', 'Kentucky', 'Louisiana', 'Mississippi', 'North Carolina', 'Oklahoma', 'South Carolina', 'Tennessee', 'Texas', 'Virginia', 'West Virginia'}\n",
    "\n",
    "    # States in the West\n",
    "    west_states = {'Alaska', 'Arizona', 'California', 'Colorado', 'Hawaii', 'Idaho', 'Montana', 'Nevada', 'New Mexico', 'Oregon', 'Utah', 'Washington', 'Wyoming'}\n",
    "    \n",
    "    df = pd.read_csv('DS-Model/data_raw/diversity_school.csv', sep=',')\n",
    "\n",
    "    \n",
    "    for index, row in df.iterrows():\n",
    "        current_region = ''\n",
    "        if df.at[index,'state'] in northeast_states:\n",
    "            current_region = 'northeast'\n",
    "        elif df.at[index,'state'] in midwest_states:\n",
    "            current_region = 'midwest'\n",
    "        elif df.at[index,'state'] in south_states:\n",
    "            current_region = 'south'\n",
    "        elif df.at[index,'state'] in west_states:\n",
    "            current_region = 'west'\n",
    "        else:\n",
    "            current_region = 'unknown'  \n",
    "            \n",
    "        df.at[index, 'region'] = current_region\n",
    "\n",
    "        df.to_csv('DS-Model/data_raw/diversity_school.csv', index=False)\n",
    "\n",
    "#addRegions()\n",
    "# Now delete all rows with unknown regions\n",
    "def cleanDiversitySchool():\n",
    "    df = pd.read_csv('DS-Model/data_raw/diversity_school.csv', sep=',')\n",
    "    print('Count of cells BEFORE dropping empty cells:', df.size, '\\n')\n",
    "    for index, row in df.iterrows():\n",
    "        if df.at[index,'region'] == 'unknown':\n",
    "            df = df.drop(index)\n",
    "    df.dropna()\n",
    "    df.to_csv('DS-Model/data_raw/diversity_school.csv', index=False)\n",
    "    print('Count of cells AFTER dropping empty cells:', df.size, '\\n')\n",
    "# cleanDiversitySchool()\n",
    "\n",
    "def addDiversityPercent():\n",
    "    df = pd.read_csv('DS-Model/data_raw/diversity_school.csv', sep=',')\n",
    "    \n",
    "    for index, row in df.iterrows():\n",
    "        diversity_percent = df.at[index, 'enrollment'] / df.at[index, 'total_enrollment']\n",
    "            \n",
    "        df.at[index,'diversity_percent'] = diversity_percent\n",
    "    \n",
    "    df.to_csv('DS-Model/data_raw/diversity_school.csv', index=False)\n",
    "    \n",
    "addDiversityPercent()"
   ]
  },
  {
   "cell_type": "markdown",
   "id": "cd0cafab-1913-4454-8b94-654125074ca1",
   "metadata": {},
   "source": [
    "Step 4: Creat modelling_data.csv with all features and target "
   ]
  },
  {
   "cell_type": "code",
   "execution_count": null,
   "id": "3930addb-88a5-4c03-b132-122902fade38",
   "metadata": {},
   "outputs": [],
   "source": []
  }
 ],
 "metadata": {
  "kernelspec": {
   "display_name": "Python 3 (ipykernel)",
   "language": "python",
   "name": "python3"
  },
  "language_info": {
   "codemirror_mode": {
    "name": "ipython",
    "version": 3
   },
   "file_extension": ".py",
   "mimetype": "text/x-python",
   "name": "python",
   "nbconvert_exporter": "python",
   "pygments_lexer": "ipython3",
   "version": "3.11.4"
  }
 },
 "nbformat": 4,
 "nbformat_minor": 5
}
